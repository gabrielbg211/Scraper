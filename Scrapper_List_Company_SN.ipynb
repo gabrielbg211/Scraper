{
 "cells": [
  {
   "cell_type": "code",
   "execution_count": 30,
   "metadata": {},
   "outputs": [
    {
     "ename": "TypeError",
     "evalue": "WebDriver.__init__() got an unexpected keyword argument 'executable_path'",
     "output_type": "error",
     "traceback": [
      "\u001b[0;31m---------------------------------------------------------------------------\u001b[0m",
      "\u001b[0;31mTypeError\u001b[0m                                 Traceback (most recent call last)",
      "\u001b[1;32m/home/gabrielbg21/Documents/Test de codigos de ChatGPT/Scrapper_List_Company_SN/Scrapper_List_Company_SN.ipynb Celda 1\u001b[0m line \u001b[0;36m2\n\u001b[1;32m     <a href='vscode-notebook-cell:/home/gabrielbg21/Documents/Test%20de%20codigos%20de%20ChatGPT/Scrapper_List_Company_SN/Scrapper_List_Company_SN.ipynb#W1sZmlsZQ%3D%3D?line=13'>14</a>\u001b[0m \u001b[39m# options.add_argument(\"user_agent=Mozilla/5.0 (Macintosh; Intel Mac OS X 10_11_6) AppleWebKit/537.36 (KHTML, like Gecko) Chrome/88.0.4324.182 Safari/537.36\")\u001b[39;00m\n\u001b[1;32m     <a href='vscode-notebook-cell:/home/gabrielbg21/Documents/Test%20de%20codigos%20de%20ChatGPT/Scrapper_List_Company_SN/Scrapper_List_Company_SN.ipynb#W1sZmlsZQ%3D%3D?line=14'>15</a>\u001b[0m \n\u001b[1;32m     <a href='vscode-notebook-cell:/home/gabrielbg21/Documents/Test%20de%20codigos%20de%20ChatGPT/Scrapper_List_Company_SN/Scrapper_List_Company_SN.ipynb#W1sZmlsZQ%3D%3D?line=15'>16</a>\u001b[0m \u001b[39m# driver = webdriver.Chrome(service=Service(ChromeDriverManager().install()),\u001b[39;00m\n\u001b[1;32m     <a href='vscode-notebook-cell:/home/gabrielbg21/Documents/Test%20de%20codigos%20de%20ChatGPT/Scrapper_List_Company_SN/Scrapper_List_Company_SN.ipynb#W1sZmlsZQ%3D%3D?line=16'>17</a>\u001b[0m \u001b[39m# options=options) \u001b[39;00m\n\u001b[1;32m     <a href='vscode-notebook-cell:/home/gabrielbg21/Documents/Test%20de%20codigos%20de%20ChatGPT/Scrapper_List_Company_SN/Scrapper_List_Company_SN.ipynb#W1sZmlsZQ%3D%3D?line=18'>19</a>\u001b[0m chrome_path \u001b[39m=\u001b[39m \u001b[39m\"\u001b[39m\u001b[39m/usr/bin/chromedriver\u001b[39m\u001b[39m\"\u001b[39m\n\u001b[0;32m---> <a href='vscode-notebook-cell:/home/gabrielbg21/Documents/Test%20de%20codigos%20de%20ChatGPT/Scrapper_List_Company_SN/Scrapper_List_Company_SN.ipynb#W1sZmlsZQ%3D%3D?line=19'>20</a>\u001b[0m driver \u001b[39m=\u001b[39m webdriver\u001b[39m.\u001b[39;49mChrome(options\u001b[39m=\u001b[39;49moptions, executable_path\u001b[39m=\u001b[39;49mchrome_path)\n\u001b[1;32m     <a href='vscode-notebook-cell:/home/gabrielbg21/Documents/Test%20de%20codigos%20de%20ChatGPT/Scrapper_List_Company_SN/Scrapper_List_Company_SN.ipynb#W1sZmlsZQ%3D%3D?line=21'>22</a>\u001b[0m \u001b[39m# Login to Sales Navigator\u001b[39;00m\n\u001b[1;32m     <a href='vscode-notebook-cell:/home/gabrielbg21/Documents/Test%20de%20codigos%20de%20ChatGPT/Scrapper_List_Company_SN/Scrapper_List_Company_SN.ipynb#W1sZmlsZQ%3D%3D?line=22'>23</a>\u001b[0m driver\u001b[39m.\u001b[39mget(\u001b[39m\"\u001b[39m\u001b[39mhttps://www.linkedin.com/login?fromSignIn=true&trk=guest_homepage-basic_nav-header-signin\u001b[39m\u001b[39m\"\u001b[39m)\n",
      "\u001b[0;31mTypeError\u001b[0m: WebDriver.__init__() got an unexpected keyword argument 'executable_path'"
     ]
    }
   ],
   "source": [
    "from selenium import webdriver \n",
    "from selenium.webdriver.chrome.options import Options \n",
    "from selenium.webdriver.support.ui import WebDriverWait \n",
    "from selenium.webdriver.support import expected_conditions as EC \n",
    "from selenium.webdriver.common.by import By \n",
    "import pandas as pd \n",
    "from datetime import datetime \n",
    "from webdriver_manager.chrome import ChromeDriverManager\n",
    "import time\n",
    "\n",
    "WINDOW_SIZE = \"1920,1080\" \n",
    "\n",
    "options = Options() \n",
    "# options.add_argument(\"user_agent=Mozilla/5.0 (Macintosh; Intel Mac OS X 10_11_6) AppleWebKit/537.36 (KHTML, like Gecko) Chrome/88.0.4324.182 Safari/537.36\")\n",
    "\n",
    "# driver = webdriver.Chrome(service=Service(ChromeDriverManager().install()),\n",
    "# options=options) \n",
    "\n",
    "chrome_path = \"/usr/bin/chromedriver\"\n",
    "driver = webdriver.Chrome(options=options, executable_path=chrome_path)\n",
    "\n",
    "# Login to Sales Navigator\n",
    "driver.get(\"https://www.linkedin.com/login?fromSignIn=true&trk=guest_homepage-basic_nav-header-signin\")\n",
    "username_input = WebDriverWait(driver, 30).until(EC.presence_of_element_located((By.ID, \"username\")))\n",
    "password_input = WebDriverWait(driver, 30).until(EC.presence_of_element_located((By.ID, \"password\")))\n",
    "login_button = driver.find_element(By.XPATH, '//*[@id=\"organic-div\"]/form/div[3]/button')\n",
    "username_input.send_keys(\"Ibustosbenitez@gmail.com\")\n",
    "password_input.send_keys(\"Alpha#4400\")\n",
    "login_button.submit()\n",
    "time.sleep(5)   # Espera 5 segundos antes de intentar la siguiente página\n",
    "\n",
    "# Buscamos la extension FasterWeb y la instalamos\n",
    "driver.get(\"https://chrome.google.com/webstore/detail/fasterweb/nmgpnfccjfjhdenioncabecepjcmdnjg\")\n",
    "time.sleep(5)   # Espera 5 segundos antes de intentar instalar la extension\n",
    "Install_FW_button = driver.find_element(By.XPATH, '/html/body/div[3]/div[2]/div/div/div[2]/div[2]/div')\n",
    "Install_FW_button.click()\n",
    "\n",
    "time.sleep(5)   # Espera 5 segundos antes de intentar la siguiente página\n",
    "\n",
    "# Volvemos a Sales Navigator\n",
    "driver.get(\"https://www.linkedin.com/sales/accounts/dashboard?listGroup=CUSTOM_LISTS&listId=7066122785890181120&page=34\")"
   ]
  },
  {
   "cell_type": "code",
   "execution_count": 72,
   "metadata": {},
   "outputs": [],
   "source": [
    "max_attempts = 40\n",
    "attempt = 0\n",
    "\n",
    "for i in range(max_attempts):\n",
    "    try:\n",
    "        # Extraer los enlaces de los elementos encontrados por el XPath y guardarlos en un archivo\n",
    "        links = driver.find_elements(By.XPATH, '//*[@class=\"ember-view _company-name-link_13fnqk\"]')\n",
    "        with open('Mayo/Li Sn 17-05 Competitors p12.txt', 'a') as f:\n",
    "            for link in links:\n",
    "                f.write(link.get_attribute('href') + '\\n')\n",
    "        # Click next page button    \n",
    "        next_page_button = driver.find_element(By.XPATH, '//*[@class=\"ember-view _button_ps32ck _small_ps32ck _tertiary_ps32ck _right_ps32ck _container_iq15dg _next-btn_15whdx _nextBtn_156gez\"]')\n",
    "        next_page_button.click() \n",
    "        time.sleep(5)   # Espera 5 segundos antes de intentar la siguiente página\n",
    "    except:\n",
    "        break"
   ]
  },
  {
   "cell_type": "code",
   "execution_count": 69,
   "metadata": {},
   "outputs": [],
   "source": [
    "driver.switch_to.window(driver.window_handles[0])"
   ]
  }
 ],
 "metadata": {
  "kernelspec": {
   "display_name": "Python 3",
   "language": "python",
   "name": "python3"
  },
  "language_info": {
   "codemirror_mode": {
    "name": "ipython",
    "version": 3
   },
   "file_extension": ".py",
   "mimetype": "text/x-python",
   "name": "python",
   "nbconvert_exporter": "python",
   "pygments_lexer": "ipython3",
   "version": "3.11.2"
  },
  "orig_nbformat": 4
 },
 "nbformat": 4,
 "nbformat_minor": 2
}
