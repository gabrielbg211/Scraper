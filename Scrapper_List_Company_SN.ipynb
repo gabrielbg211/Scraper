{
 "cells": [
  {
   "cell_type": "code",
   "execution_count": null,
   "metadata": {},
   "outputs": [],
   "source": [
    "from flask import Flask, render_template, request, redirect, url_for\n",
    "from selenium import webdriver\n",
    "from selenium.webdriver.chrome.options import Options\n",
    "import time\n",
    "\n",
    "app = Flask(__name__)\n",
    "\n",
    "# Configuración de Selenium\n",
    "chrome_options = Options()\n",
    "chrome_options.add_argument(\"--headless\")  # Para ejecutar Chrome en segundo plano\n",
    "driver = webdriver.Chrome(options=chrome_options)\n",
    "\n",
    "@app.route('/')\n",
    "def index():\n",
    "    return render_template('index.html')\n",
    "\n",
    "@app.route('/scrape', methods=['POST'])\n",
    "def scrape():\n",
    "    # Aquí debes colocar la lógica de tu scraper basado en Selenium\n",
    "    # Puedes obtener datos del formulario si es necesario usando request.form\n",
    "    # Ejecuta tu scraper y obtén los resultados\n",
    "    # Devuelve los resultados para mostrarlos en la página web\n",
    "    results = []\n",
    "\n",
    "    try:\n",
    "        # Ejemplo: Navegar a una página y obtener el título\n",
    "        driver.get(\"https://www.example.com\")\n",
    "        time.sleep(3)\n",
    "        page_title = driver.title\n",
    "        results.append(page_title)\n",
    "    except Exception as e:\n",
    "        error_message = str(e)\n",
    "        results.append(f\"Error: {error_message}\")\n",
    "\n",
    "    return render_template('results.html', results=results)\n",
    "\n",
    "if __name__ == '__main__':\n",
    "    app.run(debug=True)\n"
   ]
  }
 ],
 "metadata": {
  "kernelspec": {
   "display_name": "Python 3",
   "language": "python",
   "name": "python3"
  },
  "language_info": {
   "codemirror_mode": {
    "name": "ipython",
    "version": 3
   },
   "file_extension": ".py",
   "mimetype": "text/x-python",
   "name": "python",
   "nbconvert_exporter": "python",
   "pygments_lexer": "ipython3",
   "version": "3.11.2"
  },
  "orig_nbformat": 4
 },
 "nbformat": 4,
 "nbformat_minor": 2
}
