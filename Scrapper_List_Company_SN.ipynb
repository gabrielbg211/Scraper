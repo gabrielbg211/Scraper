{
 "cells": [
  {
   "cell_type": "code",
   "execution_count": 30,
   "metadata": {},
   "outputs": [
    {
     "ename": "TypeError",
     "evalue": "WebDriver.__init__() got an unexpected keyword argument 'executable_path'",
     "output_type": "error",
     "traceback": [
      "\u001b[0;31m---------------------------------------------------------------------------\u001b[0m",
      "\u001b[0;31mTypeError\u001b[0m                                 Traceback (most recent call last)",
      "\u001b[1;32m/home/gabrielbg21/Documents/Test de codigos de ChatGPT/Scrapper_List_Company_SN/Scrapper_List_Company_SN.ipynb Celda 1\u001b[0m line \u001b[0;36m2\n\u001b[1;32m     <a href='vscode-notebook-cell:/home/gabrielbg21/Documents/Test%20de%20codigos%20de%20ChatGPT/Scrapper_List_Company_SN/Scrapper_List_Company_SN.ipynb#W1sZmlsZQ%3D%3D?line=13'>14</a>\u001b[0m \u001b[39m# options.add_argument(\"user_agent=Mozilla/5.0 (Macintosh; Intel Mac OS X 10_11_6) AppleWebKit/537.36 (KHTML, like Gecko) Chrome/88.0.4324.182 Safari/537.36\")\u001b[39;00m\n\u001b[1;32m     <a href='vscode-notebook-cell:/home/gabrielbg21/Documents/Test%20de%20codigos%20de%20ChatGPT/Scrapper_List_Company_SN/Scrapper_List_Company_SN.ipynb#W1sZmlsZQ%3D%3D?line=14'>15</a>\u001b[0m \n\u001b[1;32m     <a href='vscode-notebook-cell:/home/gabrielbg21/Documents/Test%20de%20codigos%20de%20ChatGPT/Scrapper_List_Company_SN/Scrapper_List_Company_SN.ipynb#W1sZmlsZQ%3D%3D?line=15'>16</a>\u001b[0m \u001b[39m# driver = webdriver.Chrome(service=Service(ChromeDriverManager().install()),\u001b[39;00m\n\u001b[1;32m     <a href='vscode-notebook-cell:/home/gabrielbg21/Documents/Test%20de%20codigos%20de%20ChatGPT/Scrapper_List_Company_SN/Scrapper_List_Company_SN.ipynb#W1sZmlsZQ%3D%3D?line=16'>17</a>\u001b[0m \u001b[39m# options=options) \u001b[39;00m\n\u001b[1;32m     <a href='vscode-notebook-cell:/home/gabrielbg21/Documents/Test%20de%20codigos%20de%20ChatGPT/Scrapper_List_Company_SN/Scrapper_List_Company_SN.ipynb#W1sZmlsZQ%3D%3D?line=18'>19</a>\u001b[0m chrome_path \u001b[39m=\u001b[39m \u001b[39m\"\u001b[39m\u001b[39m/usr/bin/chromedriver\u001b[39m\u001b[39m\"\u001b[39m\n\u001b[0;32m---> <a href='vscode-notebook-cell:/home/gabrielbg21/Documents/Test%20de%20codigos%20de%20ChatGPT/Scrapper_List_Company_SN/Scrapper_List_Company_SN.ipynb#W1sZmlsZQ%3D%3D?line=19'>20</a>\u001b[0m driver \u001b[39m=\u001b[39m webdriver\u001b[39m.\u001b[39;49mChrome(options\u001b[39m=\u001b[39;49moptions, executable_path\u001b[39m=\u001b[39;49mchrome_path)\n\u001b[1;32m     <a href='vscode-notebook-cell:/home/gabrielbg21/Documents/Test%20de%20codigos%20de%20ChatGPT/Scrapper_List_Company_SN/Scrapper_List_Company_SN.ipynb#W1sZmlsZQ%3D%3D?line=21'>22</a>\u001b[0m \u001b[39m# Login to Sales Navigator\u001b[39;00m\n\u001b[1;32m     <a href='vscode-notebook-cell:/home/gabrielbg21/Documents/Test%20de%20codigos%20de%20ChatGPT/Scrapper_List_Company_SN/Scrapper_List_Company_SN.ipynb#W1sZmlsZQ%3D%3D?line=22'>23</a>\u001b[0m driver\u001b[39m.\u001b[39mget(\u001b[39m\"\u001b[39m\u001b[39mhttps://www.linkedin.com/login?fromSignIn=true&trk=guest_homepage-basic_nav-header-signin\u001b[39m\u001b[39m\"\u001b[39m)\n",
      "\u001b[0;31mTypeError\u001b[0m: WebDriver.__init__() got an unexpected keyword argument 'executable_path'"
     ]
    }
   ],
   "source": [
    "from flask import Flask, render_template, request, redirect, url_for\n",
    "from selenium import webdriver\n",
    "from selenium.webdriver.chrome.options import Options\n",
    "import os\n",
    "\n",
    "app = Flask(__name__)\n",
    "\n",
    "# Función para verificar si los drivers están instalados\n",
    "def drivers_installed():\n",
    "    return os.path.isfile(\"/usr/bin/chromedriver\")  # Verifica si el archivo del driver existe en la ruta especificada\n",
    "\n",
    "@app.route('/')\n",
    "def index():\n",
    "    return render_template('index.html', drivers_installed=drivers_installed())\n",
    "\n",
    "@app.route('/scrape', methods=['POST'])\n",
    "def scrape():\n",
    "    if not drivers_installed():\n",
    "        # En este ejemplo, se descargaría e instalaría el driver automáticamente\n",
    "        # Esto puede requerir privilegios de administrador en un entorno real\n",
    "        os.system(\"webdriver-manager autoinstall\")\n",
    "        \n",
    "    # Resto de la lógica de scraping\n",
    "    # ...\n",
    "\n",
    "    return render_template('results.html')\n",
    "\n",
    "if __name__ == '__main__':\n",
    "    app.run(debug=True)\n"
   ]
  }
 ],
 "metadata": {
  "kernelspec": {
   "display_name": "Python 3",
   "language": "python",
   "name": "python3"
  },
  "language_info": {
   "codemirror_mode": {
    "name": "ipython",
    "version": 3
   },
   "file_extension": ".py",
   "mimetype": "text/x-python",
   "name": "python",
   "nbconvert_exporter": "python",
   "pygments_lexer": "ipython3",
   "version": "3.11.2"
  },
  "orig_nbformat": 4
 },
 "nbformat": 4,
 "nbformat_minor": 2
}
